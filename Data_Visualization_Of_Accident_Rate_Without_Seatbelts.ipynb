{
 "cells": [
  {
   "cell_type": "markdown",
   "metadata": {},
   "source": [
    "Tugas Portofolio Geeked"
   ]
  },
  {
   "cell_type": "markdown",
   "metadata": {},
   "source": [
    "## Data Visualization of Accident Rate Without Seatbelts"
   ]
  },
  {
   "cell_type": "markdown",
   "metadata": {},
   "source": [
    "Kemudahan kita dalam berpergian yaitu dengan menggunakan tranportasi, bisa tranportasi umum maupun transportasi pribadi. Selain memudahkan untuk berpergian, kendaraan pribadi juga dapat menghemat pengeluaran. Namun, sering kali pengemudi kendaraan pribadi tidak bijak dalam penggunaannya, seperti mengemudi tanpa memakai sabuk pengaman. Oleh karena itu, saya berminat dengan data tingkat kecelakaan tanpa menggunakan sabuk pengaman untuk dijadikan pengetahuan saya dan semua orang, dengan melihat  visualisasi data dari jumlah kecelakaan tanpa menggunakan sabuk pengaman."
   ]
  },
  {
   "cell_type": "markdown",
   "metadata": {},
   "source": [
    "1. Unnamed:0 = nomor\n",
    "2. Year = tahun\n",
    "3. Month = bulan\n",
    "4. DriversKilled = jumlah pengemudi yang meninggal\n",
    "5. drivers = jumlah pengemudi\n",
    "6. front = kecelakaan bagian depan\n",
    "7. rear = kecelakaan bagian belakang\n",
    "8. kms = kilometer\n",
    "9. PetrolPrice = Harga Bensin\n",
    "10. VanKilled = Jumlah Pengemudi minibus/van yang meninggal\n",
    "11. law = hukum"
   ]
  },
  {
   "cell_type": "markdown",
   "metadata": {},
   "source": [
    "# Membaca Data"
   ]
  },
  {
   "cell_type": "code",
   "execution_count": 8,
   "metadata": {},
   "outputs": [],
   "source": [
    "import pandas as pd\n",
    "ar = pd.read_csv(\"seatbelts.csv\")"
   ]
  },
  {
   "cell_type": "markdown",
   "metadata": {},
   "source": [
    "Menampilkan data tingkat kecelakaan tanpa menggunakan sabuk pengaman"
   ]
  },
  {
   "cell_type": "code",
   "execution_count": 9,
   "metadata": {},
   "outputs": [
    {
     "data": {
      "text/html": [
       "<div>\n",
       "<style scoped>\n",
       "    .dataframe tbody tr th:only-of-type {\n",
       "        vertical-align: middle;\n",
       "    }\n",
       "\n",
       "    .dataframe tbody tr th {\n",
       "        vertical-align: top;\n",
       "    }\n",
       "\n",
       "    .dataframe thead th {\n",
       "        text-align: right;\n",
       "    }\n",
       "</style>\n",
       "<table border=\"1\" class=\"dataframe\">\n",
       "  <thead>\n",
       "    <tr style=\"text-align: right;\">\n",
       "      <th></th>\n",
       "      <th>Unnamed: 0</th>\n",
       "      <th>Year</th>\n",
       "      <th>Month</th>\n",
       "      <th>DriversKilled</th>\n",
       "      <th>drivers</th>\n",
       "      <th>front</th>\n",
       "      <th>rear</th>\n",
       "      <th>kms</th>\n",
       "      <th>PetrolPrice</th>\n",
       "      <th>VanKilled</th>\n",
       "      <th>law</th>\n",
       "    </tr>\n",
       "  </thead>\n",
       "  <tbody>\n",
       "    <tr>\n",
       "      <th>0</th>\n",
       "      <td>1</td>\n",
       "      <td>1969</td>\n",
       "      <td>Jan</td>\n",
       "      <td>107</td>\n",
       "      <td>1687</td>\n",
       "      <td>867</td>\n",
       "      <td>269</td>\n",
       "      <td>9059</td>\n",
       "      <td>0.102972</td>\n",
       "      <td>12</td>\n",
       "      <td>0</td>\n",
       "    </tr>\n",
       "    <tr>\n",
       "      <th>1</th>\n",
       "      <td>2</td>\n",
       "      <td>1969</td>\n",
       "      <td>Feb</td>\n",
       "      <td>97</td>\n",
       "      <td>1508</td>\n",
       "      <td>825</td>\n",
       "      <td>265</td>\n",
       "      <td>7685</td>\n",
       "      <td>0.102363</td>\n",
       "      <td>6</td>\n",
       "      <td>0</td>\n",
       "    </tr>\n",
       "    <tr>\n",
       "      <th>2</th>\n",
       "      <td>3</td>\n",
       "      <td>1969</td>\n",
       "      <td>Mar</td>\n",
       "      <td>102</td>\n",
       "      <td>1507</td>\n",
       "      <td>806</td>\n",
       "      <td>319</td>\n",
       "      <td>9963</td>\n",
       "      <td>0.102062</td>\n",
       "      <td>12</td>\n",
       "      <td>0</td>\n",
       "    </tr>\n",
       "    <tr>\n",
       "      <th>3</th>\n",
       "      <td>4</td>\n",
       "      <td>1969</td>\n",
       "      <td>Apr</td>\n",
       "      <td>87</td>\n",
       "      <td>1385</td>\n",
       "      <td>814</td>\n",
       "      <td>407</td>\n",
       "      <td>10955</td>\n",
       "      <td>0.100873</td>\n",
       "      <td>8</td>\n",
       "      <td>0</td>\n",
       "    </tr>\n",
       "    <tr>\n",
       "      <th>4</th>\n",
       "      <td>5</td>\n",
       "      <td>1969</td>\n",
       "      <td>May</td>\n",
       "      <td>119</td>\n",
       "      <td>1632</td>\n",
       "      <td>991</td>\n",
       "      <td>454</td>\n",
       "      <td>11823</td>\n",
       "      <td>0.101020</td>\n",
       "      <td>10</td>\n",
       "      <td>0</td>\n",
       "    </tr>\n",
       "    <tr>\n",
       "      <th>...</th>\n",
       "      <td>...</td>\n",
       "      <td>...</td>\n",
       "      <td>...</td>\n",
       "      <td>...</td>\n",
       "      <td>...</td>\n",
       "      <td>...</td>\n",
       "      <td>...</td>\n",
       "      <td>...</td>\n",
       "      <td>...</td>\n",
       "      <td>...</td>\n",
       "      <td>...</td>\n",
       "    </tr>\n",
       "    <tr>\n",
       "      <th>187</th>\n",
       "      <td>188</td>\n",
       "      <td>1984</td>\n",
       "      <td>Aug</td>\n",
       "      <td>96</td>\n",
       "      <td>1284</td>\n",
       "      <td>644</td>\n",
       "      <td>521</td>\n",
       "      <td>21626</td>\n",
       "      <td>0.114797</td>\n",
       "      <td>5</td>\n",
       "      <td>1</td>\n",
       "    </tr>\n",
       "    <tr>\n",
       "      <th>188</th>\n",
       "      <td>189</td>\n",
       "      <td>1984</td>\n",
       "      <td>Sep</td>\n",
       "      <td>122</td>\n",
       "      <td>1444</td>\n",
       "      <td>643</td>\n",
       "      <td>429</td>\n",
       "      <td>20195</td>\n",
       "      <td>0.114093</td>\n",
       "      <td>7</td>\n",
       "      <td>1</td>\n",
       "    </tr>\n",
       "    <tr>\n",
       "      <th>189</th>\n",
       "      <td>190</td>\n",
       "      <td>1984</td>\n",
       "      <td>Oct</td>\n",
       "      <td>120</td>\n",
       "      <td>1575</td>\n",
       "      <td>641</td>\n",
       "      <td>408</td>\n",
       "      <td>19928</td>\n",
       "      <td>0.116466</td>\n",
       "      <td>7</td>\n",
       "      <td>1</td>\n",
       "    </tr>\n",
       "    <tr>\n",
       "      <th>190</th>\n",
       "      <td>191</td>\n",
       "      <td>1984</td>\n",
       "      <td>Nov</td>\n",
       "      <td>137</td>\n",
       "      <td>1737</td>\n",
       "      <td>711</td>\n",
       "      <td>490</td>\n",
       "      <td>18564</td>\n",
       "      <td>0.116026</td>\n",
       "      <td>4</td>\n",
       "      <td>1</td>\n",
       "    </tr>\n",
       "    <tr>\n",
       "      <th>191</th>\n",
       "      <td>192</td>\n",
       "      <td>1984</td>\n",
       "      <td>Dec</td>\n",
       "      <td>154</td>\n",
       "      <td>1763</td>\n",
       "      <td>721</td>\n",
       "      <td>491</td>\n",
       "      <td>18149</td>\n",
       "      <td>0.116067</td>\n",
       "      <td>7</td>\n",
       "      <td>1</td>\n",
       "    </tr>\n",
       "  </tbody>\n",
       "</table>\n",
       "<p>192 rows × 11 columns</p>\n",
       "</div>"
      ],
      "text/plain": [
       "     Unnamed: 0  Year Month  DriversKilled  drivers  front  rear    kms  \\\n",
       "0             1  1969   Jan            107     1687    867   269   9059   \n",
       "1             2  1969   Feb             97     1508    825   265   7685   \n",
       "2             3  1969   Mar            102     1507    806   319   9963   \n",
       "3             4  1969   Apr             87     1385    814   407  10955   \n",
       "4             5  1969   May            119     1632    991   454  11823   \n",
       "..          ...   ...   ...            ...      ...    ...   ...    ...   \n",
       "187         188  1984   Aug             96     1284    644   521  21626   \n",
       "188         189  1984   Sep            122     1444    643   429  20195   \n",
       "189         190  1984   Oct            120     1575    641   408  19928   \n",
       "190         191  1984   Nov            137     1737    711   490  18564   \n",
       "191         192  1984   Dec            154     1763    721   491  18149   \n",
       "\n",
       "     PetrolPrice  VanKilled  law  \n",
       "0       0.102972         12    0  \n",
       "1       0.102363          6    0  \n",
       "2       0.102062         12    0  \n",
       "3       0.100873          8    0  \n",
       "4       0.101020         10    0  \n",
       "..           ...        ...  ...  \n",
       "187     0.114797          5    1  \n",
       "188     0.114093          7    1  \n",
       "189     0.116466          7    1  \n",
       "190     0.116026          4    1  \n",
       "191     0.116067          7    1  \n",
       "\n",
       "[192 rows x 11 columns]"
      ]
     },
     "execution_count": 9,
     "metadata": {},
     "output_type": "execute_result"
    }
   ],
   "source": [
    "ar"
   ]
  },
  {
   "cell_type": "markdown",
   "metadata": {},
   "source": [
    "Melihat informasi tentang dataframe kecelakaan tanpa menggunakan sabuk pengaman"
   ]
  },
  {
   "cell_type": "code",
   "execution_count": 10,
   "metadata": {
    "scrolled": false
   },
   "outputs": [
    {
     "name": "stdout",
     "output_type": "stream",
     "text": [
      "<class 'pandas.core.frame.DataFrame'>\n",
      "RangeIndex: 192 entries, 0 to 191\n",
      "Data columns (total 11 columns):\n",
      " #   Column         Non-Null Count  Dtype  \n",
      "---  ------         --------------  -----  \n",
      " 0   Unnamed: 0     192 non-null    int64  \n",
      " 1   Year           192 non-null    int64  \n",
      " 2   Month          192 non-null    object \n",
      " 3   DriversKilled  192 non-null    int64  \n",
      " 4   drivers        192 non-null    int64  \n",
      " 5   front          192 non-null    int64  \n",
      " 6   rear           192 non-null    int64  \n",
      " 7   kms            192 non-null    int64  \n",
      " 8   PetrolPrice    192 non-null    float64\n",
      " 9   VanKilled      192 non-null    int64  \n",
      " 10  law            192 non-null    int64  \n",
      "dtypes: float64(1), int64(9), object(1)\n",
      "memory usage: 16.6+ KB\n"
     ]
    }
   ],
   "source": [
    "ar.info()"
   ]
  },
  {
   "cell_type": "markdown",
   "metadata": {},
   "source": [
    "Memeriksa apakah terdapat nilai null pada dataframe kecelakaan tanpa menggunakan sabuk pengaman"
   ]
  },
  {
   "cell_type": "code",
   "execution_count": 11,
   "metadata": {},
   "outputs": [
    {
     "data": {
      "text/plain": [
       "False"
      ]
     },
     "execution_count": 11,
     "metadata": {},
     "output_type": "execute_result"
    }
   ],
   "source": [
    "ar.isnull().values.any()"
   ]
  },
  {
   "cell_type": "markdown",
   "metadata": {},
   "source": [
    "Memeriksa apakah ada data duplikat pada dataframe kecelakaan tanpa menggunakan sabuk pengaman"
   ]
  },
  {
   "cell_type": "code",
   "execution_count": 12,
   "metadata": {},
   "outputs": [
    {
     "data": {
      "text/plain": [
       "0      False\n",
       "1      False\n",
       "2      False\n",
       "3      False\n",
       "4      False\n",
       "       ...  \n",
       "187    False\n",
       "188    False\n",
       "189    False\n",
       "190    False\n",
       "191    False\n",
       "Length: 192, dtype: bool"
      ]
     },
     "execution_count": 12,
     "metadata": {},
     "output_type": "execute_result"
    }
   ],
   "source": [
    "ar.duplicated()"
   ]
  },
  {
   "cell_type": "markdown",
   "metadata": {},
   "source": [
    "Mengubah format dari object menjadi str"
   ]
  },
  {
   "cell_type": "code",
   "execution_count": 22,
   "metadata": {},
   "outputs": [],
   "source": [
    "ar['Month'] = ar['Month'].astype(str)"
   ]
  },
  {
   "cell_type": "markdown",
   "metadata": {},
   "source": [
    "# Mencari Hubungan Antara Tahun dan Jumlah Pengemudi"
   ]
  },
  {
   "cell_type": "code",
   "execution_count": 50,
   "metadata": {},
   "outputs": [
    {
     "data": {
      "text/plain": [
       "Text(0, 0.5, 'Jumlah Pengemudi')"
      ]
     },
     "execution_count": 50,
     "metadata": {},
     "output_type": "execute_result"
    },
    {
     "data": {
      "image/png": "[encoded data removed]",
      "text/plain": [
       "<Figure size 432x288 with 1 Axes>"
      ]
     },
     "metadata": {
      "needs_background": "light"
     },
     "output_type": "display_data"
    }
   ],
   "source": [
    "import matplotlib.pyplot as plt\n",
    "Year = ar.groupby(['Year']).sum()\n",
    "plt.plot(Year['drivers'],marker = 'o')\n",
    "plt.grid()\n",
    "plt.title(\"Hubungan antara tahun dan jumlah pengemudi\")\n",
    "plt.xlabel(\"Tahun\")\n",
    "plt.ylabel(\"Jumlah Pengemudi\")"
   ]
  },
  {
   "cell_type": "markdown",
   "metadata": {},
   "source": [
    "#### Dihasilkan bahwa jumlah pengemudi meninggi dari tahun 1971 - 1973"
   ]
  },
  {
   "cell_type": "markdown",
   "metadata": {},
   "source": [
    "# Hubungan Antara Tahun dan Jumlah Pengemudi Yang Meninggal"
   ]
  },
  {
   "cell_type": "code",
   "execution_count": 49,
   "metadata": {},
   "outputs": [
    {
     "data": {
      "text/plain": [
       "Text(0, 0.5, 'Jumlah pengemudi yang meninggal')"
      ]
     },
     "execution_count": 49,
     "metadata": {},
     "output_type": "execute_result"
    },
    {
     "data": {
      "image/png": "[encoded data removed]",
      "text/plain": [
       "<Figure size 432x288 with 1 Axes>"
      ]
     },
     "metadata": {
      "needs_background": "light"
     },
     "output_type": "display_data"
    }
   ],
   "source": [
    "import matplotlib.pyplot as plt\n",
    "Year = ar.groupby(['Year']).sum()\n",
    "plt.plot(Year['DriversKilled'],marker = 'o')\n",
    "plt.grid()\n",
    "plt.title(\"Hubungan antara tahun dan jumlah pengemudi yang meninggal\")\n",
    "plt.xlabel(\"Tahun\")\n",
    "plt.ylabel(\"Jumlah pengemudi yang meninggal\")"
   ]
  },
  {
   "cell_type": "markdown",
   "metadata": {},
   "source": [
    "#### Dihasilkan bahwa tahun 1972 paling banyak jumlah pengemudi yang meninggal"
   ]
  },
  {
   "cell_type": "markdown",
   "metadata": {},
   "source": [
    "# Mencari Hubungan Antara Tahun dan Jumlah Pengemudi Minibus/Van yang meninggal"
   ]
  },
  {
   "cell_type": "code",
   "execution_count": 48,
   "metadata": {},
   "outputs": [
    {
     "data": {
      "text/plain": [
       "Text(0, 0.5, 'Jumlah van/minibus yang rusak')"
      ]
     },
     "execution_count": 48,
     "metadata": {},
     "output_type": "execute_result"
    },
    {
     "data": {
      "image/png": "[encoded data removed]",
      "text/plain": [
       "<Figure size 432x288 with 1 Axes>"
      ]
     },
     "metadata": {
      "needs_background": "light"
     },
     "output_type": "display_data"
    }
   ],
   "source": [
    "import matplotlib.pyplot as plt\n",
    "Year = ar.groupby(['Year']).sum()\n",
    "plt.plot(Year['VanKilled'],marker = 'o')\n",
    "plt.grid()\n",
    "plt.title(\"Hubungan Antara Tahun dan Jumlah pengemudi van/minibus yang meninggal\")\n",
    "plt.xlabel(\"Tahun\")\n",
    "plt.ylabel(\"Jumlah van/minibus yang rusak\")"
   ]
  },
  {
   "cell_type": "markdown",
   "metadata": {},
   "source": [
    "#### Dihasilkan bahwa paling banyak pada tahun 1971 pengemudi van/minibus yang meninggal dunia."
   ]
  },
  {
   "cell_type": "markdown",
   "metadata": {},
   "source": [
    "# Mencari Hubungan Antara Tahun dan Kecelakaan Bagian Depan"
   ]
  },
  {
   "cell_type": "code",
   "execution_count": 47,
   "metadata": {},
   "outputs": [
    {
     "data": {
      "text/plain": [
       "Text(0, 0.5, 'Kerusakaan Bagian Depan')"
      ]
     },
     "execution_count": 47,
     "metadata": {},
     "output_type": "execute_result"
    },
    {
     "data": {
      "image/png": "[encoded data removed]",
      "text/plain": [
       "<Figure size 432x288 with 1 Axes>"
      ]
     },
     "metadata": {
      "needs_background": "light"
     },
     "output_type": "display_data"
    }
   ],
   "source": [
    "import matplotlib.pyplot as plt\n",
    "Year = ar.groupby(['Year']).sum()\n",
    "plt.plot(Year['front'],marker = 'o')\n",
    "plt.grid()\n",
    "plt.title(\"Hubungan Antara Tahun dan Kecelakaan Bagian Depan\")\n",
    "plt.xlabel(\"Tahun\")\n",
    "plt.ylabel(\"Kerusakaan Bagian Depan\")"
   ]
  },
  {
   "cell_type": "markdown",
   "metadata": {},
   "source": [
    "#### Dihasilkan bahwa paling banyak kecelakaan bagian depan terjadi pada tahun 1970"
   ]
  },
  {
   "cell_type": "markdown",
   "metadata": {},
   "source": [
    "# Mencari Hubungan Antara Tahun dan Kecelakaan Bagian Belakang"
   ]
  },
  {
   "cell_type": "code",
   "execution_count": 46,
   "metadata": {},
   "outputs": [
    {
     "data": {
      "text/plain": [
       "Text(0, 0.5, 'Kecelakaan Bagian Belakang')"
      ]
     },
     "execution_count": 46,
     "metadata": {},
     "output_type": "execute_result"
    },
    {
     "data": {
      "image/png": "[encoded data removed]",
      "text/plain": [
       "<Figure size 432x288 with 1 Axes>"
      ]
     },
     "metadata": {
      "needs_background": "light"
     },
     "output_type": "display_data"
    }
   ],
   "source": [
    "import matplotlib.pyplot as plt\n",
    "Year = ar.groupby(['Year']).sum()\n",
    "plt.plot(Year['rear'],marker = 'o')\n",
    "plt.grid()\n",
    "plt.title(\"Hubungan antara tahun dan Kecelakaan Bagian Belakang\")\n",
    "plt.xlabel(\"Tahun\")\n",
    "plt.ylabel(\"Kecelakaan Bagian Belakang\")"
   ]
  },
  {
   "cell_type": "markdown",
   "metadata": {},
   "source": [
    "#### Dihasilkan bahwa paling banyak kecelakaan bagian belakang terdapat pada tahun 1973"
   ]
  },
  {
   "cell_type": "markdown",
   "metadata": {},
   "source": [
    "### Sehingga dapat disimpulkan bahwa :"
   ]
  },
  {
   "cell_type": "markdown",
   "metadata": {},
   "source": [
    "Jumlah pengemudi meninggi pada tahun 1971-1973. Pada tahun 1972 paling banyak jumlah pengemudi yang meninggal, tahun 1971 paling banyak jumlah pengemudi van/minibus yang meninggal dunia, dan kecelakaan bagian depan terjadi paling banyak pada tahun 1970, dan kecelakaan bagian belakang terjadi paling banyak pada tahun 1973. Untuk mendapatkan tingkat penurunan kecelakaan yang terjadi yaitu para pengemudi harus selalu menggunakan sabuk pengaman dalam mengendarai kendaraan pribadi atau minibus/van."
   ]
  }
 ],
 "metadata": {
  "kernelspec": {
   "display_name": "Python 3",
   "language": "python",
   "name": "python3"
  },
  "language_info": {
   "codemirror_mode": {
    "name": "ipython",
    "version": 3
   },
   "file_extension": ".py",
   "mimetype": "text/x-python",
   "name": "python",
   "nbconvert_exporter": "python",
   "pygments_lexer": "ipython3",
   "version": "3.8.8"
  }
 },
 "nbformat": 4,
 "nbformat_minor": 4
}
